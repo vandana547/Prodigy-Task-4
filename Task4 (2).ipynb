{
  "cells": [
    {
      "cell_type": "code",
      "execution_count": 7,
      "metadata": {
        "colab": {
          "base_uri": "https://localhost:8080/"
        },
        "id": "NdRDcoylCzlS",
        "outputId": "b07cdc36-1f19-43fe-b349-40e536789461"
      },
      "outputs": [
        {
          "name": "stdout",
          "output_type": "stream",
          "text": [
            "\n",
            "Solved Sudoku Grid:\n",
            "5 1 7 6 9 8 2 3 4\n",
            "2 8 9 1 3 4 7 5 6\n",
            "3 4 6 2 7 5 8 9 1\n",
            "6 7 2 8 4 9 3 1 5\n",
            "1 3 8 5 2 6 9 4 7\n",
            "9 5 4 7 1 3 6 8 2\n",
            "4 9 5 3 6 2 1 7 8\n",
            "7 2 3 4 8 1 5 6 9\n",
            "8 6 1 9 5 7 4 2 3\n"
          ]
        }
      ],
      "source": [
        "def is_valid(grid, row, col, num):\n",
        "    # Check row\n",
        "    for x in range(9):\n",
        "        if grid[row][x] == num:\n",
        "            return False\n",
        "    # Check column\n",
        "    for x in range(9):\n",
        "        if grid[x][col] == num:\n",
        "            return False\n",
        "    # Check 3x3 subgrid\n",
        "    start_row = (row // 3) * 3\n",
        "    start_col = (col // 3) * 3\n",
        "    for i in range(3):\n",
        "        for j in range(3):\n",
        "            if grid[start_row + i][start_col + j] == num:\n",
        "                return False\n",
        "    return True\n",
        "\n",
        "def solve_sudoku(grid):\n",
        "    for row in range(9):\n",
        "        for col in range(9):\n",
        "            if grid[row][col] == 0:\n",
        "                for num in range(1, 10):\n",
        "                    if is_valid(grid, row, col, num):\n",
        "                        grid[row][col] = num\n",
        "                        if solve_sudoku(grid):\n",
        "                            return True\n",
        "                        grid[row][col] = 0\n",
        "                return False\n",
        "    return True\n",
        "\n",
        "def print_grid(grid):\n",
        "    print(\"\\nSolved Sudoku Grid:\")\n",
        "    for row in grid:\n",
        "        print(\" \".join(str(num) for num in row))\n",
        "\n",
        "# Sample unsolved Sudoku puzzle (0 represents empty cells)\n",
        "sudoku_grid = [\n",
        "    [5, 1, 7, 6, 0, 0, 0, 3, 4],\n",
        "    [2, 8, 9, 0, 0, 4, 0, 0, 0],\n",
        "    [3, 4, 6, 2, 0, 5, 0, 9, 0],\n",
        "    [6, 0, 2, 0, 0, 0, 0, 1, 0],\n",
        "    [0, 3, 8, 0, 0, 6, 0, 4, 7],\n",
        "    [0, 0, 0, 0, 0, 0, 0, 0, 0],\n",
        "    [0, 9, 0, 0, 0, 0, 0, 7, 8],\n",
        "    [7, 0, 3, 4, 0, 0, 5, 6, 0],\n",
        "    [0, 0, 0, 0, 0, 0, 0, 0, 0]\n",
        "]\n",
        "\n",
        "if solve_sudoku(sudoku_grid):\n",
        "    print_grid(sudoku_grid)\n",
        "else:\n",
        "    print(\"No solution exists for the given Sudoku puzzle.\")"
      ]
    }
  ],
  "metadata": {
    "colab": {
      "name": "Welcome To Colab",
      "provenance": []
    },
    "kernelspec": {
      "display_name": "Python 3",
      "name": "python3"
    }
  },
  "nbformat": 4,
  "nbformat_minor": 0
}
